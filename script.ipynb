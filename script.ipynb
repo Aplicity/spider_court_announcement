{
 "cells": [
  {
   "cell_type": "code",
   "execution_count": 1,
   "metadata": {},
   "outputs": [],
   "source": [
    "import requests\n",
    "from bs4 import BeautifulSoup as bs\n",
    "import numpy as np\n",
    "import pandas as pd\n",
    "import re\n",
    "from pyecharts import Pie,Bar"
   ]
  },
  {
   "cell_type": "markdown",
   "metadata": {},
   "source": [
    "### 先用正则匹配出 法院公告的每个星期的请求URL"
   ]
  },
  {
   "cell_type": "code",
   "execution_count": 2,
   "metadata": {},
   "outputs": [],
   "source": [
    "URLs = []\n",
    "for i in range(1,7):\n",
    "    URL = 'http://xnqfy.chinacourt.gov.cn/article/index/id/M0g3NzAwNjAwMiACAAA/page/{}.shtml'.format(i)\n",
    "    html = requests.get(URL)\n",
    "    text = html.text\n",
    "    candidate = re.findall('/article/detail/[0-9]{4}/[0-9]{2}/id/[0-9]{7}.shtml', html.text )\n",
    "    URLs.append(candidate)\n",
    "    \n",
    "URLs = sum(URLs, [])\n",
    "    \n",
    "URLs = ['http://xnqfy.chinacourt.gov.cn' + url for url in URLs] \n",
    "    "
   ]
  },
  {
   "cell_type": "markdown",
   "metadata": {},
   "source": [
    "### 解析请求URL，两种解析架构，分别对应新旧不同类型的网站架构"
   ]
  },
  {
   "cell_type": "code",
   "execution_count": 3,
   "metadata": {},
   "outputs": [],
   "source": [
    "def parse_url_1(url):\n",
    "    html = requests.get(url)\n",
    "    soup = bs(html.text)\n",
    "\n",
    "    data = []\n",
    "    for line in soup.select('p'):\n",
    "        data.append(line.text)\n",
    "\n",
    "    items = []\n",
    "    while len(data) > 0:\n",
    "        try :\n",
    "            ind = data.index('\\xa0')\n",
    "            items.append(data[:ind])\n",
    "            data = data[ind + 1:]\n",
    "        except:\n",
    "            break\n",
    "\n",
    "    while len(items[-1]) == 0:\n",
    "        items.pop()\n",
    "\n",
    "    DFs = []\n",
    "\n",
    "    for item in items:\n",
    "        data = []\n",
    "        columns = []\n",
    "\n",
    "        for element in item:\n",
    "            element = element.replace(\":\", \"：\")\n",
    "            key = element.split('：')[0]\n",
    "            value = element.split('：')[-1]\n",
    "            columns.append(key)\n",
    "            data.append(value)\n",
    "        data = np.array(data).reshape(1,len(columns))\n",
    "        df = pd.DataFrame(data = data , columns = columns)\n",
    "        DFs.append(df)\n",
    "\n",
    "    df = pd.concat(DFs)\n",
    "    df = df[['案号','案由','开庭时间']]\n",
    "    return df\n",
    "\n",
    "\n",
    "def parse_url_2(url):\n",
    "    html = requests.get(url)\n",
    "    items = re.findall(\"[\\w]+：（?[\\w]+）?[\\w]*\",html.text.replace('\\u3000',''))\n",
    "    caseIDs = []\n",
    "    causes = []\n",
    "    dates = []\n",
    "    for item in items:\n",
    "        if '案号' in item:\n",
    "            caseIDs.append(item)\n",
    "        if \"案由\" in item:\n",
    "            causes.append(item)\n",
    "        if '开庭时间' in item:\n",
    "            dates.append(item)\n",
    "            \n",
    "    df = pd.DataFrame({'案号':caseIDs,\"案由\": causes, '开庭时间': dates})\n",
    "    return df\n",
    "    \n"
   ]
  },
  {
   "cell_type": "markdown",
   "metadata": {},
   "source": [
    "### 对每个星期的公告进行两种不同对解析"
   ]
  },
  {
   "cell_type": "code",
   "execution_count": 4,
   "metadata": {},
   "outputs": [
    {
     "name": "stderr",
     "output_type": "stream",
     "text": [
      "/Library/Frameworks/Python.framework/Versions/3.6/lib/python3.6/site-packages/bs4/__init__.py:181: UserWarning: No parser was explicitly specified, so I'm using the best available HTML parser for this system (\"lxml\"). This usually isn't a problem, but if you run this code on another system, or in a different virtual environment, it may use a different parser and behave differently.\n",
      "\n",
      "The code that caused this warning is on line 193 of the file /Library/Frameworks/Python.framework/Versions/3.6/lib/python3.6/runpy.py. To get rid of this warning, change code that looks like this:\n",
      "\n",
      " BeautifulSoup(YOUR_MARKUP})\n",
      "\n",
      "to this:\n",
      "\n",
      " BeautifulSoup(YOUR_MARKUP, \"lxml\")\n",
      "\n",
      "  markup_type=markup_type))\n"
     ]
    }
   ],
   "source": [
    "DFs = []\n",
    "for url in URLs:\n",
    "    try:\n",
    "        df = parse_url_1(url)\n",
    "        DFs.append(df)\n",
    "    except:\n",
    "        pass\n",
    "    try:\n",
    "        df = parse_url_2(url)\n",
    "        DFs.append(df)\n",
    "    except:\n",
    "        pass\n",
    "        "
   ]
  },
  {
   "cell_type": "markdown",
   "metadata": {},
   "source": [
    "### 把数据结果汇总， 并去重。因为部分页面解析了两次，得到对数据会重复"
   ]
  },
  {
   "cell_type": "code",
   "execution_count": 5,
   "metadata": {},
   "outputs": [],
   "source": [
    "df = pd.concat(DFs)\n",
    "df = df.dropna()\n",
    "df = df.reset_index()\n",
    "\n",
    "df = df.drop_duplicates()"
   ]
  },
  {
   "cell_type": "code",
   "execution_count": null,
   "metadata": {},
   "outputs": [],
   "source": []
  },
  {
   "cell_type": "markdown",
   "metadata": {},
   "source": [
    "### 数据清洗"
   ]
  },
  {
   "cell_type": "code",
   "execution_count": 6,
   "metadata": {},
   "outputs": [],
   "source": [
    "def clear_data(data):\n",
    "    return data.split('：')[-1]\n",
    "\n",
    "df['开庭时间'] = df['开庭时间'].apply(clear_data)\n",
    "df['案号'] = df['案号'].apply(clear_data)\n",
    "df['案由'] = df['案由'].apply(clear_data)"
   ]
  },
  {
   "cell_type": "code",
   "execution_count": 7,
   "metadata": {},
   "outputs": [],
   "source": [
    "def marry_yyyymm(date):\n",
    "    try:\n",
    "        yyyymm = re.findall('[0-9]{4}年[0-9]+月', date)[0]\n",
    "        if len(yyyymm) == 7:\n",
    "            yyyymm = yyyymm[:5] + '0' + yyyymm[5:]\n",
    "            \n",
    "        return yyyymm\n",
    "    except:\n",
    "        return 'null'\n",
    "    \n",
    "df['开庭年月'] = df['开庭时间'].apply(marry_yyyymm)\n",
    "\n",
    "df['开庭年月'] = df['开庭年月'].apply(lambda yyyymm : yyyymm.replace('2014年004月', '2014年04月' ))\n",
    "df['开庭年月'] = df['开庭年月'].apply(lambda yyyymm : yyyymm.replace('2013年00月', '2013年10月' ))\n",
    "\n",
    "df['案由类型'] = df['案由'].apply(lambda cause: cause.replace('纠纷',\"\"))"
   ]
  },
  {
   "cell_type": "code",
   "execution_count": null,
   "metadata": {},
   "outputs": [],
   "source": [
    "m, n = df.shape\n",
    "for i in range(m):\n",
    "    for j in range(n):\n",
    "        try:\n",
    "            if '\\xa0' in df.iloc[i,j]:\n",
    "                df.iloc[i,j] = df.iloc[i,j].replace('\\xa0', '')\n",
    "        except:\n",
    "            pass\n",
    "\n",
    "df.to_csv('data.csv' , index = None, encoding = 'gbk')"
   ]
  },
  {
   "cell_type": "markdown",
   "metadata": {},
   "source": [
    "### 数据分析并可视化"
   ]
  },
  {
   "cell_type": "code",
   "execution_count": 8,
   "metadata": {},
   "outputs": [],
   "source": [
    "# 案由类型\n",
    "keys = df['案由类型'].value_counts().keys()[:15]\n",
    "def label_cause(cause):\n",
    "    if cause in keys:\n",
    "        return cause\n",
    "    else:\n",
    "        return \"其他\"\n",
    "    \n",
    "df['label_案由类型'] = df['案由类型'].apply(label_cause)\n",
    "\n",
    "attr = df['label_案由类型'].value_counts().keys()\n",
    "value = df['label_案由类型'].value_counts()\n",
    "\n",
    "pie = Pie('纠纷类型', title_pos = 'center' ,width = 900, height = 600)\n",
    "pie.add('', attr , value ,\n",
    "        center = [50, 50],\n",
    "       is_label_show = True,\n",
    "       is_legend_show = True,\n",
    "       legend_orient =\"vertical\",\n",
    "       legend_pos = \"right\",\n",
    "       radius=[40, 75])\n",
    "pie.render()"
   ]
  },
  {
   "cell_type": "code",
   "execution_count": null,
   "metadata": {},
   "outputs": [],
   "source": []
  },
  {
   "cell_type": "code",
   "execution_count": null,
   "metadata": {},
   "outputs": [],
   "source": []
  },
  {
   "cell_type": "code",
   "execution_count": null,
   "metadata": {},
   "outputs": [],
   "source": []
  },
  {
   "cell_type": "code",
   "execution_count": null,
   "metadata": {},
   "outputs": [],
   "source": []
  },
  {
   "cell_type": "code",
   "execution_count": null,
   "metadata": {},
   "outputs": [],
   "source": []
  },
  {
   "cell_type": "code",
   "execution_count": null,
   "metadata": {},
   "outputs": [],
   "source": []
  },
  {
   "cell_type": "code",
   "execution_count": null,
   "metadata": {},
   "outputs": [],
   "source": []
  },
  {
   "cell_type": "code",
   "execution_count": null,
   "metadata": {},
   "outputs": [],
   "source": []
  },
  {
   "cell_type": "code",
   "execution_count": null,
   "metadata": {},
   "outputs": [],
   "source": []
  },
  {
   "cell_type": "code",
   "execution_count": null,
   "metadata": {},
   "outputs": [],
   "source": []
  },
  {
   "cell_type": "code",
   "execution_count": null,
   "metadata": {},
   "outputs": [],
   "source": []
  },
  {
   "cell_type": "code",
   "execution_count": null,
   "metadata": {},
   "outputs": [],
   "source": []
  },
  {
   "cell_type": "code",
   "execution_count": null,
   "metadata": {},
   "outputs": [],
   "source": []
  },
  {
   "cell_type": "code",
   "execution_count": null,
   "metadata": {},
   "outputs": [],
   "source": []
  },
  {
   "cell_type": "code",
   "execution_count": null,
   "metadata": {},
   "outputs": [],
   "source": []
  },
  {
   "cell_type": "code",
   "execution_count": null,
   "metadata": {},
   "outputs": [],
   "source": []
  }
 ],
 "metadata": {
  "kernelspec": {
   "display_name": "Python 3",
   "language": "python",
   "name": "python3"
  },
  "language_info": {
   "codemirror_mode": {
    "name": "ipython",
    "version": 3
   },
   "file_extension": ".py",
   "mimetype": "text/x-python",
   "name": "python",
   "nbconvert_exporter": "python",
   "pygments_lexer": "ipython3",
   "version": "3.6.4"
  }
 },
 "nbformat": 4,
 "nbformat_minor": 2
}
